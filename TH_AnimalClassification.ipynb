{
 "cells": [
  {
   "cell_type": "markdown",
   "metadata": {},
   "source": [
    "# Standard Bank Tech Impact Challenge: Animal classification\n",
    "\n",
    "The objective of this challenge is to create a machine learning model to accurately predict the likelihood that an image contains a zebra, as opposed to an elephant. While this may be an easy task for humans, elephants, and zebras, your computer will find it a bit more difficult.\n",
    "\n",
    "The total dataset contains 13,999 images of zebras and elephants, sampled from the Snapshot Serengeti collection of more than 6 million animals.\n",
    "\n",
    "Your task is to predict whether a given image contains a zebra or elephant. For each unique image ID in the test set you should estimate the likelihood that the image contains a zebra or elephant, with an estimated probability value between 0 and 1. A value of 1 represents a zebra and 0 represents an elephant. These images do not contain both simultaneously. It is therefore only a binary classification task."
   ]
  },
  {
   "cell_type": "markdown",
   "metadata": {},
   "source": [
    "# The dataset\n",
    "You are given 13,999 photos each with a unique identifier. The data is given in jpeg format. Each photo has already been resized to 330x330 pixels.\n",
    "\n",
    "<br>\n",
    "\n",
    "### The dataset is structured as follows:\n",
    " - ID 0 - 6,999 are all elephants.\n",
    " - ID 7,000 - 13,999 are zebras.\n",
    " \n",
    "<br>\n",
    "\n",
    "### Training set (size: 10,000):\n",
    " - ID 0 - 5,000 as well as \n",
    " - ID 7,000 - 12,000\n",
    "\n",
    "### Validation set (size: 2,000):\n",
    " - ID 5,000 - 5,999 as well as \n",
    " - ID 12,000 - 12,999\n",
    "\n",
    "### Test set (size: 2,000):\n",
    " - ID 6,000 - 6,999 as well as \n",
    " - ID 13,000 - 13,999\n",
    "\n",
    "<br>\n",
    "The data has already been divided into the respective folders. You must write code to load the data in accordingly.\n"
   ]
  },
  {
   "cell_type": "markdown",
   "metadata": {},
   "source": [
    "# Marking Criteria\n",
    "\n",
    "There are multiple ways one can tackle the problem. It is up to you to decide and motivate your decisions. You are not limited to using any specific methods or models.\n",
    "\n",
    "Motivate all of your steps taken in completing the task at hand, this includes but is not limited to:\n",
    "- Exploring the data\n",
    "- Data augmentation\n",
    "- Preprocessing the data\n",
    "- Choosing the right machine learning model(s)\n",
    "- Tuning the model(s)\n",
    "- Performance assessment of the model(s)\n",
    "\n",
    "Make sure to add your thoughts and motivations behind your decision making as well as the outcome thereof in markdown cells.\n",
    "\n",
    "**Your commentary will be more valuable than the performance of the model itself.**\n",
    "\n",
    "Remeber to label all graphs and keep your notebook neat."
   ]
  },
  {
   "cell_type": "markdown",
   "metadata": {},
   "source": [
    "# Make sure to include an Accuracy score of you final model on the test set.\n",
    "You may choose any other additional criteria you want to evaluate you final model on."
   ]
  }
 ],
 "metadata": {
  "kernelspec": {
   "display_name": "Python 3",
   "language": "python",
   "name": "python3"
  },
  "language_info": {
   "codemirror_mode": {
    "name": "ipython",
    "version": 3
   },
   "file_extension": ".py",
   "mimetype": "text/x-python",
   "name": "python",
   "nbconvert_exporter": "python",
   "pygments_lexer": "ipython3",
   "version": "3.8.5"
  }
 },
 "nbformat": 4,
 "nbformat_minor": 2
}
